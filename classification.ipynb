{
 "cells": [
  {
   "cell_type": "code",
   "execution_count": 25,
   "metadata": {},
   "outputs": [],
   "source": [
    "import numpy as np\n",
    "import matplotlib.pyplot as plt\n",
    "import cv2\n",
    "import pandas as pd"
   ]
  },
  {
   "cell_type": "markdown",
   "metadata": {},
   "source": [
    "### Face_detection Function"
   ]
  },
  {
   "cell_type": "code",
   "execution_count": 26,
   "metadata": {},
   "outputs": [],
   "source": [
    "def face_detection(path):\n",
    "    img = cv2.imread(path)\n",
    "    gray = cv2.cvtColor(img, cv2.COLOR_BGR2GRAY)\n",
    "\n",
    "    faceCascade = cv2.CascadeClassifier('haarcascade_frontalface_default.xml')\n",
    "    faces = faceCascade.detectMultiScale(\n",
    "        gray,\n",
    "        scaleFactor=1.1,\n",
    "        minNeighbors=5,\n",
    "        minSize=(30, 30),\n",
    "        flags=cv2.CASCADE_SCALE_IMAGE\n",
    "    )\n",
    "\n",
    "    for (x, y, w, h) in faces:\n",
    "        cv2.rectangle(img, (x, y), (x+w, y+h), (0, 255, 0), 2)\n",
    "        new_img = gray[y:y+h, x:x+w]\n",
    "        new_img = cv2.resize(src=new_img, dsize=(1000, 1000))\n",
    "        return new_img[:,:]"
   ]
  },
  {
   "cell_type": "markdown",
   "metadata": {},
   "source": [
    "### Load DataFrame"
   ]
  },
  {
   "cell_type": "code",
   "execution_count": 27,
   "metadata": {},
   "outputs": [
    {
     "name": "stdout",
     "output_type": "stream",
     "text": [
      "<class 'pandas.core.frame.DataFrame'>\n",
      "RangeIndex: 26 entries, 0 to 25\n",
      "Data columns (total 4 columns):\n",
      " #   Column  Non-Null Count  Dtype  \n",
      "---  ------  --------------  -----  \n",
      " 0   path    26 non-null     object \n",
      " 1   label   26 non-null     object \n",
      " 2   x       0 non-null      float64\n",
      " 3   y       0 non-null      float64\n",
      "dtypes: float64(2), object(2)\n",
      "memory usage: 960.0+ bytes\n"
     ]
    }
   ],
   "source": [
    "df = pd.read_csv('data_train.csv')\n",
    "df.info()"
   ]
  },
  {
   "cell_type": "markdown",
   "metadata": {},
   "source": [
    "### Load Training Image to variate X"
   ]
  },
  {
   "cell_type": "code",
   "execution_count": 28,
   "metadata": {},
   "outputs": [],
   "source": [
    "h = 1000 # hight\n",
    "w = 1000 # width\n",
    "D = h * w\n",
    "cnt = 1\n",
    "X = []\n",
    "img = face_detection(df['path'][0])\n",
    "X.append(img.reshape(1000000))\n",
    "\n",
    "for path in df['path'][1:]:\n",
    "        try:\n",
    "            img = face_detection(path)\n",
    "            new_x = img.reshape(D)\n",
    "            x = []\n",
    "            x.append(new_x)\n",
    "            X = np.concatenate((X, x), axis = 0)\n",
    "            cnt += 1\n",
    "        except:\n",
    "            df.drop(cnt, axis=0)\n",
    "            print(\"error:\", path)\n",
    "\n"
   ]
  },
  {
   "cell_type": "code",
   "execution_count": 29,
   "metadata": {},
   "outputs": [
    {
     "data": {
      "text/plain": [
       "(26, 1000000)"
      ]
     },
     "execution_count": 29,
     "metadata": {},
     "output_type": "execute_result"
    }
   ],
   "source": [
    "X.shape"
   ]
  },
  {
   "cell_type": "code",
   "execution_count": 30,
   "metadata": {},
   "outputs": [
    {
     "data": {
      "text/plain": [
       "(1000000, 26)"
      ]
     },
     "execution_count": 30,
     "metadata": {},
     "output_type": "execute_result"
    }
   ],
   "source": [
    "X = X.T\n",
    "X.shape"
   ]
  },
  {
   "cell_type": "markdown",
   "metadata": {},
   "source": [
    "### PCA"
   ]
  },
  {
   "cell_type": "code",
   "execution_count": 31,
   "metadata": {},
   "outputs": [
    {
     "data": {
      "text/plain": [
       "(1000000, 2)"
      ]
     },
     "execution_count": 31,
     "metadata": {},
     "output_type": "execute_result"
    }
   ],
   "source": [
    "# Doing PCA, note that each row is a datapoint\n",
    "from sklearn.decomposition import PCA\n",
    "pca = PCA(n_components = 2) # K = 2\n",
    "pca.fit(X.T)\n",
    "\n",
    "# projection matrix\n",
    "U = pca.components_.T\n",
    "U_mean = pca.mean_\n",
    "U.shape"
   ]
  },
  {
   "cell_type": "code",
   "execution_count": 32,
   "metadata": {},
   "outputs": [],
   "source": [
    "X_PCA = pca.transform(X.T)"
   ]
  },
  {
   "cell_type": "code",
   "execution_count": 33,
   "metadata": {},
   "outputs": [
    {
     "name": "stderr",
     "output_type": "stream",
     "text": [
      "C:\\Users\\ASUS\\AppData\\Local\\Temp\\ipykernel_26284\\272207799.py:4: SettingWithCopyWarning: \n",
      "A value is trying to be set on a copy of a slice from a DataFrame\n",
      "\n",
      "See the caveats in the documentation: https://pandas.pydata.org/pandas-docs/stable/user_guide/indexing.html#returning-a-view-versus-a-copy\n",
      "  df['x'][i] = X_PCA[i][0]\n",
      "C:\\Users\\ASUS\\AppData\\Local\\Temp\\ipykernel_26284\\272207799.py:5: SettingWithCopyWarning: \n",
      "A value is trying to be set on a copy of a slice from a DataFrame\n",
      "\n",
      "See the caveats in the documentation: https://pandas.pydata.org/pandas-docs/stable/user_guide/indexing.html#returning-a-view-versus-a-copy\n",
      "  df['y'][i] = X_PCA[i][1]\n"
     ]
    }
   ],
   "source": [
    "i = 0 \n",
    "while i <= cnt:\n",
    "    try:\n",
    "        df['x'][i] = X_PCA[i][0]\n",
    "        df['y'][i] = X_PCA[i][1]\n",
    "        i+=1\n",
    "    except:\n",
    "        i+=1"
   ]
  },
  {
   "cell_type": "code",
   "execution_count": 34,
   "metadata": {},
   "outputs": [
    {
     "data": {
      "text/plain": [
       "<seaborn.axisgrid.JointGrid at 0x2be127a6640>"
      ]
     },
     "execution_count": 34,
     "metadata": {},
     "output_type": "execute_result"
    },
    {
     "data": {
      "image/png": "[encoded data removed]",
      "text/plain": [
       "<Figure size 600x600 with 3 Axes>"
      ]
     },
     "metadata": {},
     "output_type": "display_data"
    }
   ],
   "source": [
    "import seaborn as sns\n",
    "sns.jointplot(x='x', y= 'y', hue='label', data = df)"
   ]
  },
  {
   "cell_type": "code",
   "execution_count": null,
   "metadata": {},
   "outputs": [],
   "source": []
  },
  {
   "cell_type": "code",
   "execution_count": null,
   "metadata": {},
   "outputs": [],
   "source": []
  },
  {
   "cell_type": "code",
   "execution_count": 35,
   "metadata": {},
   "outputs": [
    {
     "data": {
      "text/html": [
       "<div>\n",
       "<style scoped>\n",
       "    .dataframe tbody tr th:only-of-type {\n",
       "        vertical-align: middle;\n",
       "    }\n",
       "\n",
       "    .dataframe tbody tr th {\n",
       "        vertical-align: top;\n",
       "    }\n",
       "\n",
       "    .dataframe thead th {\n",
       "        text-align: right;\n",
       "    }\n",
       "</style>\n",
       "<table border=\"1\" class=\"dataframe\">\n",
       "  <thead>\n",
       "    <tr style=\"text-align: right;\">\n",
       "      <th></th>\n",
       "      <th>path</th>\n",
       "      <th>label</th>\n",
       "      <th>x</th>\n",
       "      <th>y</th>\n",
       "    </tr>\n",
       "  </thead>\n",
       "  <tbody>\n",
       "    <tr>\n",
       "      <th>0</th>\n",
       "      <td>D:\\Study\\AI\\Project\\Main\\\\training_data\\ps1-1.jpg</td>\n",
       "      <td>Viet</td>\n",
       "      <td>43872.338456</td>\n",
       "      <td>-15700.570187</td>\n",
       "    </tr>\n",
       "    <tr>\n",
       "      <th>1</th>\n",
       "      <td>D:\\Study\\AI\\Project\\Main\\\\training_data\\ps1-2.jpg</td>\n",
       "      <td>Viet</td>\n",
       "      <td>43565.753322</td>\n",
       "      <td>-9534.952331</td>\n",
       "    </tr>\n",
       "    <tr>\n",
       "      <th>2</th>\n",
       "      <td>D:\\Study\\AI\\Project\\Main\\\\training_data\\ps1-4.jpg</td>\n",
       "      <td>Viet</td>\n",
       "      <td>36314.033884</td>\n",
       "      <td>-25689.807924</td>\n",
       "    </tr>\n",
       "    <tr>\n",
       "      <th>3</th>\n",
       "      <td>D:\\Study\\AI\\Project\\Main\\\\training_data\\ps1-5.jpg</td>\n",
       "      <td>Viet</td>\n",
       "      <td>40927.147925</td>\n",
       "      <td>-16435.066331</td>\n",
       "    </tr>\n",
       "    <tr>\n",
       "      <th>4</th>\n",
       "      <td>D:\\Study\\AI\\Project\\Main\\\\training_data\\ps1-6.jpg</td>\n",
       "      <td>Viet</td>\n",
       "      <td>35499.608212</td>\n",
       "      <td>-24405.270299</td>\n",
       "    </tr>\n",
       "    <tr>\n",
       "      <th>5</th>\n",
       "      <td>D:\\Study\\AI\\Project\\Main\\\\training_data\\ps2-1.jpg</td>\n",
       "      <td>Duy</td>\n",
       "      <td>14005.275790</td>\n",
       "      <td>40052.457590</td>\n",
       "    </tr>\n",
       "    <tr>\n",
       "      <th>6</th>\n",
       "      <td>D:\\Study\\AI\\Project\\Main\\\\training_data\\ps2-2.jpg</td>\n",
       "      <td>Duy</td>\n",
       "      <td>31276.991286</td>\n",
       "      <td>16338.424329</td>\n",
       "    </tr>\n",
       "    <tr>\n",
       "      <th>7</th>\n",
       "      <td>D:\\Study\\AI\\Project\\Main\\\\training_data\\ps2-3.jpg</td>\n",
       "      <td>Duy</td>\n",
       "      <td>24355.690849</td>\n",
       "      <td>28270.870470</td>\n",
       "    </tr>\n",
       "    <tr>\n",
       "      <th>8</th>\n",
       "      <td>D:\\Study\\AI\\Project\\Main\\\\training_data\\ps2-5.jpg</td>\n",
       "      <td>Duy</td>\n",
       "      <td>27839.969582</td>\n",
       "      <td>36387.570377</td>\n",
       "    </tr>\n",
       "    <tr>\n",
       "      <th>9</th>\n",
       "      <td>D:\\Study\\AI\\Project\\Main\\\\training_data\\ps2-6.jpg</td>\n",
       "      <td>Duy</td>\n",
       "      <td>28922.644036</td>\n",
       "      <td>34592.543736</td>\n",
       "    </tr>\n",
       "    <tr>\n",
       "      <th>10</th>\n",
       "      <td>D:\\Study\\AI\\Project\\Main\\\\training_data\\ps3-1.jpg</td>\n",
       "      <td>Vu</td>\n",
       "      <td>-12711.724943</td>\n",
       "      <td>-24488.749373</td>\n",
       "    </tr>\n",
       "    <tr>\n",
       "      <th>11</th>\n",
       "      <td>D:\\Study\\AI\\Project\\Main\\\\training_data\\ps3-2.jpg</td>\n",
       "      <td>Vu</td>\n",
       "      <td>-10118.281878</td>\n",
       "      <td>-16638.542963</td>\n",
       "    </tr>\n",
       "    <tr>\n",
       "      <th>12</th>\n",
       "      <td>D:\\Study\\AI\\Project\\Main\\\\training_data\\ps3-3.jpg</td>\n",
       "      <td>Vu</td>\n",
       "      <td>-1039.714929</td>\n",
       "      <td>-10354.289518</td>\n",
       "    </tr>\n",
       "    <tr>\n",
       "      <th>13</th>\n",
       "      <td>D:\\Study\\AI\\Project\\Main\\\\training_data\\ps3-4.jpg</td>\n",
       "      <td>Vu</td>\n",
       "      <td>-11536.172816</td>\n",
       "      <td>-21904.365801</td>\n",
       "    </tr>\n",
       "    <tr>\n",
       "      <th>14</th>\n",
       "      <td>D:\\Study\\AI\\Project\\Main\\\\training_data\\ps3-6.jpg</td>\n",
       "      <td>Vu</td>\n",
       "      <td>-19849.066635</td>\n",
       "      <td>-25653.146198</td>\n",
       "    </tr>\n",
       "    <tr>\n",
       "      <th>15</th>\n",
       "      <td>D:\\Study\\AI\\Project\\Main\\\\training_data\\ps4-1.jpg</td>\n",
       "      <td>Tuan</td>\n",
       "      <td>-25939.178964</td>\n",
       "      <td>7365.270636</td>\n",
       "    </tr>\n",
       "    <tr>\n",
       "      <th>16</th>\n",
       "      <td>D:\\Study\\AI\\Project\\Main\\\\training_data\\ps4-3.jpg</td>\n",
       "      <td>Tuan</td>\n",
       "      <td>-34830.535974</td>\n",
       "      <td>10949.314798</td>\n",
       "    </tr>\n",
       "    <tr>\n",
       "      <th>17</th>\n",
       "      <td>D:\\Study\\AI\\Project\\Main\\\\training_data\\ps4-4.jpg</td>\n",
       "      <td>Tuan</td>\n",
       "      <td>-31912.382102</td>\n",
       "      <td>7435.221808</td>\n",
       "    </tr>\n",
       "    <tr>\n",
       "      <th>18</th>\n",
       "      <td>D:\\Study\\AI\\Project\\Main\\\\training_data\\ps4-5.jpg</td>\n",
       "      <td>Tuan</td>\n",
       "      <td>-31724.171472</td>\n",
       "      <td>13378.177058</td>\n",
       "    </tr>\n",
       "    <tr>\n",
       "      <th>19</th>\n",
       "      <td>D:\\Study\\AI\\Project\\Main\\\\training_data\\ps4-7.jpg</td>\n",
       "      <td>Loi</td>\n",
       "      <td>-17951.520521</td>\n",
       "      <td>11001.045852</td>\n",
       "    </tr>\n",
       "    <tr>\n",
       "      <th>20</th>\n",
       "      <td>D:\\Study\\AI\\Project\\Main\\\\training_data\\ps4-6.jpg</td>\n",
       "      <td>Tuan</td>\n",
       "      <td>-39742.663937</td>\n",
       "      <td>12741.037399</td>\n",
       "    </tr>\n",
       "    <tr>\n",
       "      <th>21</th>\n",
       "      <td>D:\\Study\\AI\\Project\\Main\\\\training_data\\ps5-1.jpg</td>\n",
       "      <td>Loi</td>\n",
       "      <td>-26668.185927</td>\n",
       "      <td>-6284.601086</td>\n",
       "    </tr>\n",
       "    <tr>\n",
       "      <th>22</th>\n",
       "      <td>D:\\Study\\AI\\Project\\Main\\\\training_data\\ps5-2.jpg</td>\n",
       "      <td>Loi</td>\n",
       "      <td>-13699.427753</td>\n",
       "      <td>846.149032</td>\n",
       "    </tr>\n",
       "    <tr>\n",
       "      <th>23</th>\n",
       "      <td>D:\\Study\\AI\\Project\\Main\\\\training_data\\ps5-3.jpg</td>\n",
       "      <td>Loi</td>\n",
       "      <td>-17071.952038</td>\n",
       "      <td>-6253.780299</td>\n",
       "    </tr>\n",
       "    <tr>\n",
       "      <th>24</th>\n",
       "      <td>D:\\Study\\AI\\Project\\Main\\\\training_data\\ps5-5.jpg</td>\n",
       "      <td>Loi</td>\n",
       "      <td>-13844.541287</td>\n",
       "      <td>-15221.794322</td>\n",
       "    </tr>\n",
       "    <tr>\n",
       "      <th>25</th>\n",
       "      <td>D:\\Study\\AI\\Project\\Main\\\\training_data\\ps5-6.jpg</td>\n",
       "      <td>Loi</td>\n",
       "      <td>-17939.932165</td>\n",
       "      <td>-793.146454</td>\n",
       "    </tr>\n",
       "  </tbody>\n",
       "</table>\n",
       "</div>"
      ],
      "text/plain": [
       "                                                 path label             x  \\\n",
       "0   D:\\Study\\AI\\Project\\Main\\\\training_data\\ps1-1.jpg  Viet  43872.338456   \n",
       "1   D:\\Study\\AI\\Project\\Main\\\\training_data\\ps1-2.jpg  Viet  43565.753322   \n",
       "2   D:\\Study\\AI\\Project\\Main\\\\training_data\\ps1-4.jpg  Viet  36314.033884   \n",
       "3   D:\\Study\\AI\\Project\\Main\\\\training_data\\ps1-5.jpg  Viet  40927.147925   \n",
       "4   D:\\Study\\AI\\Project\\Main\\\\training_data\\ps1-6.jpg  Viet  35499.608212   \n",
       "5   D:\\Study\\AI\\Project\\Main\\\\training_data\\ps2-1.jpg   Duy  14005.275790   \n",
       "6   D:\\Study\\AI\\Project\\Main\\\\training_data\\ps2-2.jpg   Duy  31276.991286   \n",
       "7   D:\\Study\\AI\\Project\\Main\\\\training_data\\ps2-3.jpg   Duy  24355.690849   \n",
       "8   D:\\Study\\AI\\Project\\Main\\\\training_data\\ps2-5.jpg   Duy  27839.969582   \n",
       "9   D:\\Study\\AI\\Project\\Main\\\\training_data\\ps2-6.jpg   Duy  28922.644036   \n",
       "10  D:\\Study\\AI\\Project\\Main\\\\training_data\\ps3-1.jpg    Vu -12711.724943   \n",
       "11  D:\\Study\\AI\\Project\\Main\\\\training_data\\ps3-2.jpg    Vu -10118.281878   \n",
       "12  D:\\Study\\AI\\Project\\Main\\\\training_data\\ps3-3.jpg    Vu  -1039.714929   \n",
       "13  D:\\Study\\AI\\Project\\Main\\\\training_data\\ps3-4.jpg    Vu -11536.172816   \n",
       "14  D:\\Study\\AI\\Project\\Main\\\\training_data\\ps3-6.jpg    Vu -19849.066635   \n",
       "15  D:\\Study\\AI\\Project\\Main\\\\training_data\\ps4-1.jpg  Tuan -25939.178964   \n",
       "16  D:\\Study\\AI\\Project\\Main\\\\training_data\\ps4-3.jpg  Tuan -34830.535974   \n",
       "17  D:\\Study\\AI\\Project\\Main\\\\training_data\\ps4-4.jpg  Tuan -31912.382102   \n",
       "18  D:\\Study\\AI\\Project\\Main\\\\training_data\\ps4-5.jpg  Tuan -31724.171472   \n",
       "19  D:\\Study\\AI\\Project\\Main\\\\training_data\\ps4-7.jpg   Loi -17951.520521   \n",
       "20  D:\\Study\\AI\\Project\\Main\\\\training_data\\ps4-6.jpg  Tuan -39742.663937   \n",
       "21  D:\\Study\\AI\\Project\\Main\\\\training_data\\ps5-1.jpg   Loi -26668.185927   \n",
       "22  D:\\Study\\AI\\Project\\Main\\\\training_data\\ps5-2.jpg   Loi -13699.427753   \n",
       "23  D:\\Study\\AI\\Project\\Main\\\\training_data\\ps5-3.jpg   Loi -17071.952038   \n",
       "24  D:\\Study\\AI\\Project\\Main\\\\training_data\\ps5-5.jpg   Loi -13844.541287   \n",
       "25  D:\\Study\\AI\\Project\\Main\\\\training_data\\ps5-6.jpg   Loi -17939.932165   \n",
       "\n",
       "               y  \n",
       "0  -15700.570187  \n",
       "1   -9534.952331  \n",
       "2  -25689.807924  \n",
       "3  -16435.066331  \n",
       "4  -24405.270299  \n",
       "5   40052.457590  \n",
       "6   16338.424329  \n",
       "7   28270.870470  \n",
       "8   36387.570377  \n",
       "9   34592.543736  \n",
       "10 -24488.749373  \n",
       "11 -16638.542963  \n",
       "12 -10354.289518  \n",
       "13 -21904.365801  \n",
       "14 -25653.146198  \n",
       "15   7365.270636  \n",
       "16  10949.314798  \n",
       "17   7435.221808  \n",
       "18  13378.177058  \n",
       "19  11001.045852  \n",
       "20  12741.037399  \n",
       "21  -6284.601086  \n",
       "22    846.149032  \n",
       "23  -6253.780299  \n",
       "24 -15221.794322  \n",
       "25   -793.146454  "
      ]
     },
     "execution_count": 35,
     "metadata": {},
     "output_type": "execute_result"
    }
   ],
   "source": [
    "df"
   ]
  },
  {
   "cell_type": "code",
   "execution_count": 36,
   "metadata": {},
   "outputs": [
    {
     "data": {
      "text/plain": [
       "-31912.382102216117"
      ]
     },
     "execution_count": 36,
     "metadata": {},
     "output_type": "execute_result"
    }
   ],
   "source": [
    "df['x'][17]"
   ]
  }
 ],
 "metadata": {
  "kernelspec": {
   "display_name": "Python 3.9.6 64-bit",
   "language": "python",
   "name": "python3"
  },
  "language_info": {
   "codemirror_mode": {
    "name": "ipython",
    "version": 3
   },
   "file_extension": ".py",
   "mimetype": "text/x-python",
   "name": "python",
   "nbconvert_exporter": "python",
   "pygments_lexer": "ipython3",
   "version": "3.9.6"
  },
  "orig_nbformat": 4,
  "vscode": {
   "interpreter": {
    "hash": "14958d3aee5f1cad06795f787e54b96185c25fb40dfec723a5be941f3a531b8c"
   }
  }
 },
 "nbformat": 4,
 "nbformat_minor": 2
}
